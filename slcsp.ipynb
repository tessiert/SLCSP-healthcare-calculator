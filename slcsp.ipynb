{
 "cells": [
  {
   "cell_type": "code",
   "execution_count": 1,
   "metadata": {},
   "outputs": [],
   "source": [
    "import pandas as pd\n",
    "\n",
    "plans = pd.read_csv('plans.csv', usecols=['metal_level', 'rate', 'rate_area'])\n",
    "zips_and_rate_areas = pd.read_csv(\n",
    "    'zips.csv', \n",
    "    usecols=['zipcode', 'rate_area'], \n",
    "    dtype={'zipcode': str}\n",
    "    )\n",
    "target_zips = pd.read_csv('slcsp.csv', usecols=['zipcode'], dtype={'zipcode': str})\n",
    "\n",
    "silver_plans = plans[plans['metal_level'] == 'Silver']"
   ]
  },
  {
   "cell_type": "code",
   "execution_count": null,
   "metadata": {},
   "outputs": [],
   "source": []
  },
  {
   "cell_type": "code",
   "execution_count": 2,
   "metadata": {},
   "outputs": [],
   "source": [
    "plan_area_counts = silver_plans['rate_area'].value_counts()\n",
    "has_multiple_plans = plan_area_counts.values > 1\n",
    "multi_plan_areas = plan_area_counts.index[has_multiple_plans]\n",
    "multi_plan_rates = silver_plans[silver_plans['rate_area'].isin(multi_plan_areas)]"
   ]
  },
  {
   "cell_type": "code",
   "execution_count": 3,
   "metadata": {},
   "outputs": [],
   "source": [
    "zips_and_rates = pd.merge(\n",
    "    zips_and_rate_areas, \n",
    "    multi_plan_rates,  \n",
    "    on='rate_area'\n",
    "    )"
   ]
  },
  {
   "cell_type": "code",
   "execution_count": 4,
   "metadata": {},
   "outputs": [
    {
     "data": {
      "text/plain": [
       "24500774"
      ]
     },
     "execution_count": 4,
     "metadata": {},
     "output_type": "execute_result"
    }
   ],
   "source": [
    "len(zips_and_rates)"
   ]
  },
  {
   "cell_type": "code",
   "execution_count": 5,
   "metadata": {},
   "outputs": [
    {
     "data": {
      "text/html": [
       "<div>\n",
       "<style scoped>\n",
       "    .dataframe tbody tr th:only-of-type {\n",
       "        vertical-align: middle;\n",
       "    }\n",
       "\n",
       "    .dataframe tbody tr th {\n",
       "        vertical-align: top;\n",
       "    }\n",
       "\n",
       "    .dataframe thead th {\n",
       "        text-align: right;\n",
       "    }\n",
       "</style>\n",
       "<table border=\"1\" class=\"dataframe\">\n",
       "  <thead>\n",
       "    <tr style=\"text-align: right;\">\n",
       "      <th></th>\n",
       "      <th>zipcode</th>\n",
       "      <th>rate_area</th>\n",
       "      <th>metal_level</th>\n",
       "      <th>rate</th>\n",
       "    </tr>\n",
       "  </thead>\n",
       "  <tbody>\n",
       "    <tr>\n",
       "      <th>0</th>\n",
       "      <td>36749</td>\n",
       "      <td>11</td>\n",
       "      <td>Silver</td>\n",
       "      <td>310.12</td>\n",
       "    </tr>\n",
       "    <tr>\n",
       "      <th>1</th>\n",
       "      <td>36749</td>\n",
       "      <td>11</td>\n",
       "      <td>Silver</td>\n",
       "      <td>348.73</td>\n",
       "    </tr>\n",
       "    <tr>\n",
       "      <th>2</th>\n",
       "      <td>36749</td>\n",
       "      <td>11</td>\n",
       "      <td>Silver</td>\n",
       "      <td>334.38</td>\n",
       "    </tr>\n",
       "    <tr>\n",
       "      <th>3</th>\n",
       "      <td>36749</td>\n",
       "      <td>11</td>\n",
       "      <td>Silver</td>\n",
       "      <td>330.08</td>\n",
       "    </tr>\n",
       "    <tr>\n",
       "      <th>4</th>\n",
       "      <td>36749</td>\n",
       "      <td>11</td>\n",
       "      <td>Silver</td>\n",
       "      <td>249.72</td>\n",
       "    </tr>\n",
       "  </tbody>\n",
       "</table>\n",
       "</div>"
      ],
      "text/plain": [
       "  zipcode  rate_area metal_level    rate\n",
       "0   36749         11      Silver  310.12\n",
       "1   36749         11      Silver  348.73\n",
       "2   36749         11      Silver  334.38\n",
       "3   36749         11      Silver  330.08\n",
       "4   36749         11      Silver  249.72"
      ]
     },
     "execution_count": 5,
     "metadata": {},
     "output_type": "execute_result"
    }
   ],
   "source": [
    "zips_and_rates.head()"
   ]
  },
  {
   "cell_type": "code",
   "execution_count": 6,
   "metadata": {
    "scrolled": true
   },
   "outputs": [],
   "source": [
    "# Create df where each row has a unique (zipcode, rate_area) combination\n",
    "unique_zip_rate_areas = zips_and_rates.drop_duplicates(\n",
    "    subset=['zipcode', 'rate_area']\n",
    "    )"
   ]
  },
  {
   "cell_type": "code",
   "execution_count": null,
   "metadata": {},
   "outputs": [],
   "source": []
  },
  {
   "cell_type": "code",
   "execution_count": 7,
   "metadata": {},
   "outputs": [],
   "source": [
    "# Zipcode frequency counts give # of rate areas a particular zipcode encompasses\n",
    "num_rate_areas_per_zip = unique_zip_rate_areas['zipcode'].value_counts()"
   ]
  },
  {
   "cell_type": "code",
   "execution_count": 8,
   "metadata": {},
   "outputs": [],
   "source": [
    "# Identify zipcodes that map to a single rate area, and extract the\n",
    "# associated plan data\n",
    "is_unambiguous = num_rate_areas_per_zip.values == 1\n",
    "unambiguous_zips = num_rate_areas_per_zip[is_unambiguous].index\n",
    "unambiguous_plans = zips_and_rates[zips_and_rates['zipcode'].isin(unambiguous_zips)]"
   ]
  },
  {
   "cell_type": "code",
   "execution_count": 39,
   "metadata": {},
   "outputs": [],
   "source": [
    "# Only consider zipcodes with more than one silver plan\n",
    "have_multiple = (unambiguous_plans['zipcode'].value_counts() > 1)"
   ]
  },
  {
   "cell_type": "code",
   "execution_count": 50,
   "metadata": {},
   "outputs": [
    {
     "data": {
      "text/plain": [
       "67"
      ]
     },
     "execution_count": 50,
     "metadata": {},
     "output_type": "execute_result"
    }
   ],
   "source": [
    "len(unique_zip_and_rate_area['rate'].value_counts().values > 1)"
   ]
  },
  {
   "cell_type": "code",
   "execution_count": 9,
   "metadata": {
    "scrolled": true
   },
   "outputs": [],
   "source": [
    "# set => unique rates & sorted => we can safely take second element\n",
    "# as slcsp without having to separately check for repeated lowest rate)\n",
    "slcsp_by_zip = unambiguous_plans.groupby('zipcode').agg(\n",
    "    {'rate':lambda x: sorted(set(x))[1]}\n",
    "    ).reset_index() # convert multi-index df from groupby to standard indexing "
   ]
  },
  {
   "cell_type": "code",
   "execution_count": 19,
   "metadata": {},
   "outputs": [],
   "source": [
    "target_slcsps = slcsp_by_zip[slcsp_by_zip['zipcode'].isin(target_zips.values.flatten())]"
   ]
  },
  {
   "cell_type": "code",
   "execution_count": 24,
   "metadata": {},
   "outputs": [],
   "source": [
    "results = pd.merge(target_zips, target_slcsps, how='left', on='zipcode').fillna('').set_index('zipcode')"
   ]
  },
  {
   "cell_type": "code",
   "execution_count": 26,
   "metadata": {},
   "outputs": [],
   "source": [
    "results.to_csv('test.csv')"
   ]
  },
  {
   "cell_type": "code",
   "execution_count": 30,
   "metadata": {},
   "outputs": [
    {
     "data": {
      "text/plain": [
       "'zipcode,rate\\n64148,195.66\\n67118,165.5\\n40813,237.91\\n18229,195.66\\n51012,195.66\\n79168,184.97\\n54923,\\n67651,166.13\\n49448,221.63\\n27702,235.65\\n47387,235.65\\n50014,166.13\\n33608,268.48\\n06239,237.91\\n54919,235.65\\n46706,\\n14846,\\n48872,\\n43343,\\n77052,235.92\\n07734,166.13\\n95327,166.13\\n12961,209.35\\n26716,214.34\\n48435,\\n53181,214.34\\n52654,184.97\\n58703,166.13\\n91945,226.84\\n52146,209.35\\n56097,\\n21777,166.13\\n42330,184.97\\n38849,184.97\\n77586,235.92\\n39745,165.5\\n03299,166.13\\n63359,\\n60094,166.13\\n15935,184.97\\n39845,196.64\\n48418,\\n28411,196.64\\n37333,195.66\\n75939,234.5\\n07184,166.13\\n86313,184.97\\n61232,165.5\\n20047,166.13\\n47452,\\n31551,165.5\\n'"
      ]
     },
     "execution_count": 30,
     "metadata": {},
     "output_type": "execute_result"
    }
   ],
   "source": [
    "results.to_csv(None)"
   ]
  },
  {
   "cell_type": "code",
   "execution_count": 12,
   "metadata": {},
   "outputs": [],
   "source": [
    "# merge dfs, using left join to preserve original ordering\n",
    "#test = pd.merge(slcsp_df, slcsp_by_zip, how='left', on='zipcode')"
   ]
  },
  {
   "cell_type": "code",
   "execution_count": 44,
   "metadata": {},
   "outputs": [
    {
     "data": {
      "text/html": [
       "<div>\n",
       "<style scoped>\n",
       "    .dataframe tbody tr th:only-of-type {\n",
       "        vertical-align: middle;\n",
       "    }\n",
       "\n",
       "    .dataframe tbody tr th {\n",
       "        vertical-align: top;\n",
       "    }\n",
       "\n",
       "    .dataframe thead th {\n",
       "        text-align: right;\n",
       "    }\n",
       "</style>\n",
       "<table border=\"1\" class=\"dataframe\">\n",
       "  <thead>\n",
       "    <tr style=\"text-align: right;\">\n",
       "      <th></th>\n",
       "      <th>zipcode</th>\n",
       "      <th>rate_area</th>\n",
       "    </tr>\n",
       "  </thead>\n",
       "  <tbody>\n",
       "    <tr>\n",
       "      <th>50257</th>\n",
       "      <td>54923</td>\n",
       "      <td>15</td>\n",
       "    </tr>\n",
       "    <tr>\n",
       "      <th>51100</th>\n",
       "      <td>54923</td>\n",
       "      <td>11</td>\n",
       "    </tr>\n",
       "    <tr>\n",
       "      <th>51117</th>\n",
       "      <td>54923</td>\n",
       "      <td>11</td>\n",
       "    </tr>\n",
       "  </tbody>\n",
       "</table>\n",
       "</div>"
      ],
      "text/plain": [
       "      zipcode  rate_area\n",
       "50257   54923         15\n",
       "51100   54923         11\n",
       "51117   54923         11"
      ]
     },
     "execution_count": 44,
     "metadata": {},
     "output_type": "execute_result"
    }
   ],
   "source": [
    "zips_and_rate_areas[zips_and_rate_areas['zipcode']=='54923']"
   ]
  },
  {
   "cell_type": "code",
   "execution_count": 37,
   "metadata": {},
   "outputs": [
    {
     "data": {
      "text/html": [
       "<div>\n",
       "<style scoped>\n",
       "    .dataframe tbody tr th:only-of-type {\n",
       "        vertical-align: middle;\n",
       "    }\n",
       "\n",
       "    .dataframe tbody tr th {\n",
       "        vertical-align: top;\n",
       "    }\n",
       "\n",
       "    .dataframe thead th {\n",
       "        text-align: right;\n",
       "    }\n",
       "</style>\n",
       "<table border=\"1\" class=\"dataframe\">\n",
       "  <thead>\n",
       "    <tr style=\"text-align: right;\">\n",
       "      <th></th>\n",
       "      <th>zipcode</th>\n",
       "      <th>rate_area</th>\n",
       "      <th>metal_level</th>\n",
       "      <th>rate</th>\n",
       "    </tr>\n",
       "  </thead>\n",
       "  <tbody>\n",
       "    <tr>\n",
       "      <th>710</th>\n",
       "      <td>36003</td>\n",
       "      <td>11</td>\n",
       "      <td>Silver</td>\n",
       "      <td>310.12</td>\n",
       "    </tr>\n",
       "    <tr>\n",
       "      <th>711</th>\n",
       "      <td>36003</td>\n",
       "      <td>11</td>\n",
       "      <td>Silver</td>\n",
       "      <td>348.73</td>\n",
       "    </tr>\n",
       "    <tr>\n",
       "      <th>712</th>\n",
       "      <td>36003</td>\n",
       "      <td>11</td>\n",
       "      <td>Silver</td>\n",
       "      <td>334.38</td>\n",
       "    </tr>\n",
       "    <tr>\n",
       "      <th>713</th>\n",
       "      <td>36003</td>\n",
       "      <td>11</td>\n",
       "      <td>Silver</td>\n",
       "      <td>330.08</td>\n",
       "    </tr>\n",
       "    <tr>\n",
       "      <th>714</th>\n",
       "      <td>36003</td>\n",
       "      <td>11</td>\n",
       "      <td>Silver</td>\n",
       "      <td>249.72</td>\n",
       "    </tr>\n",
       "  </tbody>\n",
       "</table>\n",
       "</div>"
      ],
      "text/plain": [
       "    zipcode  rate_area metal_level    rate\n",
       "710   36003         11      Silver  310.12\n",
       "711   36003         11      Silver  348.73\n",
       "712   36003         11      Silver  334.38\n",
       "713   36003         11      Silver  330.08\n",
       "714   36003         11      Silver  249.72"
      ]
     },
     "execution_count": 37,
     "metadata": {},
     "output_type": "execute_result"
    }
   ],
   "source": [
    "unambiguous_plans.head()"
   ]
  },
  {
   "cell_type": "code",
   "execution_count": 45,
   "metadata": {},
   "outputs": [
    {
     "data": {
      "text/plain": [
       "51"
      ]
     },
     "execution_count": 45,
     "metadata": {},
     "output_type": "execute_result"
    }
   ],
   "source": [
    "len(results)"
   ]
  },
  {
   "cell_type": "code",
   "execution_count": null,
   "metadata": {},
   "outputs": [],
   "source": []
  }
 ],
 "metadata": {
  "kernelspec": {
   "display_name": "Python 3",
   "language": "python",
   "name": "python3"
  },
  "language_info": {
   "codemirror_mode": {
    "name": "ipython",
    "version": 3
   },
   "file_extension": ".py",
   "mimetype": "text/x-python",
   "name": "python",
   "nbconvert_exporter": "python",
   "pygments_lexer": "ipython3",
   "version": "3.6.6"
  }
 },
 "nbformat": 4,
 "nbformat_minor": 2
}
